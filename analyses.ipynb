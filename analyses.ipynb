{
 "cells": [
  {
   "cell_type": "code",
   "execution_count": null,
   "id": "64ca1b38",
   "metadata": {},
   "outputs": [],
   "source": [
    "import combinatorial_peptide_pooling as cpp\n",
    "import pandas as pd\n",
    "import seaborn as sn\n",
    "import numpy as np\n",
    "from matplotlib import pyplot as plt\n",
    "import time\n",
    "import tqdm\n",
    "import pymc as pm\n",
    "import arviz as az\n",
    "import random\n",
    "from scipy import stats"
   ]
  },
  {
   "cell_type": "markdown",
   "id": "9daedad2",
   "metadata": {},
   "source": [
    "# Algorithm statistics"
   ]
  },
  {
   "cell_type": "markdown",
   "id": "046e040c",
   "metadata": {},
   "source": [
    "### Number of pools"
   ]
  },
  {
   "cell_type": "code",
   "execution_count": null,
   "id": "1a3904c2",
   "metadata": {},
   "outputs": [],
   "source": [
    "results_time_fixI4 = pd.DataFrame(columns = ['N_pools', '# of peptides', 'Time (s)'])\n",
    "\n",
    "for n in range(15, 20):\n",
    "    results_time = dict()\n",
    "    for i in tqdm.tqdm(range(50, 1000)):\n",
    "        start_time = time.time()\n",
    "        b, lines = cpp.address_rearrangement_AU(n_pools=n, iters=4, len_lst=i)\n",
    "        end_time = time.time()\n",
    "        elapsed_time = end_time - start_time\n",
    "        results_time[i] = elapsed_time\n",
    "    results_time = pd.DataFrame.from_dict(results_time, orient = 'index')\n",
    "    results_time = results_time.reset_index()\n",
    "    results_time.columns = ['# of peptides', 'Time (s)']\n",
    "    results_time['N_pools'] = n\n",
    "    results_time_fixI4  = pd.concat([results_time_fixI4, results_time])"
   ]
  },
  {
   "cell_type": "code",
   "execution_count": null,
   "id": "f24ed52f",
   "metadata": {},
   "outputs": [],
   "source": [
    "sn.lineplot(data = results_time_fix4, x = '# of peptides', y = 'Time (s)', hue = 'N_pools')"
   ]
  },
  {
   "cell_type": "markdown",
   "id": "d9c3e5ad",
   "metadata": {},
   "source": [
    "### Peptide occurrence"
   ]
  },
  {
   "cell_type": "code",
   "execution_count": null,
   "id": "e0f747ea",
   "metadata": {},
   "outputs": [],
   "source": [
    "results_time_fixN16 = pd.DataFrame(columns = ['Peptide occurrence', '# of peptides', 'Time (s)'])\n",
    "\n",
    "for iters in range(4, 7):\n",
    "    results_time = dict()\n",
    "    for i in tqdm.tqdm(range(50, 1000)):\n",
    "        start_time = time.time()\n",
    "        b, lines = cpp.address_rearrangement_AU(n_pools=16, iters=iters, len_lst=i)\n",
    "        end_time = time.time()\n",
    "        elapsed_time = end_time - start_time\n",
    "        results_time[i] = elapsed_time\n",
    "    results_time = pd.DataFrame.from_dict(results_time, orient = 'index')\n",
    "    results_time = results_time.reset_index()\n",
    "    results_time.columns = ['# of peptides', 'Time (s)']\n",
    "    results_time['Peptide occurrence'] = iters\n",
    "    results_time_fixN16  = pd.concat([results_time_fixN16, results_time])"
   ]
  },
  {
   "cell_type": "code",
   "execution_count": null,
   "id": "266a6ff5",
   "metadata": {},
   "outputs": [],
   "source": [
    "sn.lineplot(data = results_time_fixN16, x = '# of peptides', y = 'Time (s)', hue = 'Peptide occurrence')"
   ]
  },
  {
   "cell_type": "markdown",
   "id": "23b2fbd8",
   "metadata": {},
   "source": [
    "### Balance"
   ]
  },
  {
   "cell_type": "code",
   "execution_count": null,
   "id": "7343fb27",
   "metadata": {},
   "outputs": [],
   "source": [
    "results_balance_fixN16_fixI4 = dict()\n",
    "for i in tqdm.tqdm(range(50, 1000, 100)):\n",
    "    b, lines = cpp.address_rearrangement_AU(n_pools=16, iters=4, len_lst=i)\n",
    "    results_balance_fixN16_fixI4[i] = b\n",
    "    \n",
    "balance = pd.DataFrame.from_dict(results_balance_fixN16_fixI4, orient = 'index')    \n",
    "balance['perfect'] = 0\n",
    "for i in list(balance.index):\n",
    "    balance['perfect'].loc[i] = int(i*4/16)\n",
    "    \n",
    "for i in list(balance.index):\n",
    "    for y in balance.columns:\n",
    "        if y != 'perfect':\n",
    "            balance[y].loc[i] = balance[y].loc[i] - balance['perfect'].loc[i]"
   ]
  },
  {
   "cell_type": "code",
   "execution_count": null,
   "id": "807f599d",
   "metadata": {},
   "outputs": [],
   "source": [
    "balance"
   ]
  },
  {
   "cell_type": "code",
   "execution_count": null,
   "id": "1d5843e9",
   "metadata": {},
   "outputs": [],
   "source": [
    "plot = sn.stripplot(data = balance.drop('perfect', axis=1).T, jitter = 0.1, size = 10)\n",
    "plot.axhline(0, ls='--')\n",
    "plot.set_ylim(-7, 7)\n",
    "plot.set_xlabel('Number of peptides')\n",
    "plot.set_ylabel('Balance_perfect - Balance_actual')"
   ]
  },
  {
   "cell_type": "markdown",
   "id": "432d026f",
   "metadata": {},
   "source": [
    "### Errors"
   ]
  },
  {
   "cell_type": "code",
   "execution_count": null,
   "id": "0f74a778",
   "metadata": {},
   "outputs": [],
   "source": [
    "def random_amino_acid_sequence(length):\n",
    "    amino_acids = 'ACDEFGHIKLMNPQRSTVWY'\n",
    "    return ''.join(random.choice(amino_acids) for _ in range(length))\n",
    "\n",
    "length = 2000\n",
    "sequence = random_amino_acid_sequence(length)\n",
    "lst_all = []\n",
    "for i in range(0, len(sequence), 5):\n",
    "    ps = sequence[i:i+17]\n",
    "    if len(ps) == 17:\n",
    "        lst_all.append(ps)\n",
    "\n",
    "n_pools = 18\n",
    "iters = 6\n",
    "simulation_results_fixN18_fixI6 = pd.DataFrame(columns = ['Peptide', 'Address', 'Epitope', 'Act Pools',\n",
    "                                        '# of pools', '# of epitopes', '# of peptides', 'Remained', '# of lost',\n",
    "                                           'Right peptide', 'Right epitope', 'Len'])\n",
    "\n",
    "for i in tqdm.tqdm(range(100, 400, 100)):\n",
    "\n",
    "    b, lines = cpp.address_rearrangement_AU(n_pools=n_pools, iters=iters, len_lst=i)\n",
    "    lst = lst_all[:i]\n",
    "    pools, peptide_address = cpp.pooling(lst=lst, addresses=lines, n_pools=n_pools)\n",
    "    check_results = cpp.run_experiment(lst=lst, peptide_address=peptide_address, ep_length=8,\n",
    "                              pools=pools, iters=iters, n_pools=n_pools, regime='with dropouts')\n",
    "    check_results['Len'] = i\n",
    "    simulation_results_fixN18_fixI6 = pd.concat([simulation_results_fixN18_fixI6, check_results])"
   ]
  },
  {
   "cell_type": "code",
   "execution_count": null,
   "id": "be73bb68",
   "metadata": {},
   "outputs": [],
   "source": [
    "ax = sn.boxplot(data = simulation_results_fixN18_fixI6[simulation_results_fixN18_fixI6['# of lost'] > 3],\n",
    "                x = '# of lost', y = '# of peptides', hue = 'Len')"
   ]
  },
  {
   "cell_type": "markdown",
   "id": "8c3725ed",
   "metadata": {},
   "source": [
    "# Experiment results"
   ]
  },
  {
   "cell_type": "markdown",
   "id": "423bf0d5",
   "metadata": {},
   "source": [
    "### Flow cytometry"
   ]
  },
  {
   "cell_type": "code",
   "execution_count": null,
   "id": "848209a4",
   "metadata": {},
   "outputs": [],
   "source": [
    "results = pd.read_excel('flow_results.xlsx')\n",
    "results['well_type'][results['well_type'] == 'allmix_5x_dilution'] = 'allmix_5x'\n",
    "results['well_type'][results['well_type'] == 'allmix_25x_dilution'] = 'allmix_25x'\n",
    "\n",
    "results['GFPpos_of_Jurkat_perc_log10'] = np.log10(results['GFPpos_of_Jurkat_perc']/100)\n",
    "results['GFPpos_of_Jurkat_perc_ln'] = np.log(results['GFPpos_of_Jurkat_perc']/100)\n",
    "\n",
    "plt.figure(figsize=(10, 6))\n",
    "ax = sn.scatterplot(data = results[results['well_type'].str.contains('pool')],\n",
    "                   x = 'well_type', y = 'GFPpos_of_Jurkat_perc_log10', color = '#0c5394')\n",
    "plt.ylabel('Log10 of activated T cell percentage', fontsize=8)\n",
    "ax.set_title('TCR6.3: SSANNCTFEYVSQPFLM or CTFEYVSQPFLMDLEGK', fontsize=8)\n",
    "ax.set_ylabel('Log10 of activated T cell percentage', fontsize=8)\n",
    "ax.set_xlabel('', fontsize=14)\n"
   ]
  },
  {
   "cell_type": "markdown",
   "id": "1f04f2d7",
   "metadata": {},
   "source": [
    "### Microscopy"
   ]
  },
  {
   "cell_type": "code",
   "execution_count": null,
   "id": "1fd01ed2",
   "metadata": {},
   "outputs": [],
   "source": [
    "incu = pd.read_csv('incucyte_results.txt', sep = \"\\t\",\n",
    "                   index_col = 0)\n",
    "cell_i = np.log10(list(incu.loc['E'].values) + list(incu.loc['F'].values) + list(incu.loc['G'].values) + list(incu.loc['H'].values))\n",
    "inds = ['pool0', 'pool1', 'pool2', 'pool3', 'pool4', 'pool5',\n",
    "        'pool6','pool7', 'pool8', 'pool9', 'pool10', 'pool11',\n",
    "        'pool0', 'pool1', 'pool2', 'pool3', 'pool4', 'pool5',\n",
    "        'pool6', 'pool7', 'pool8', 'pool9', 'pool10', 'pool11',\n",
    "        'pool0', 'pool1', 'pool2', 'pool3', 'pool4', 'pool5',\n",
    "        'pool6', 'pool7', 'pool8', 'pool9', 'pool10', 'pool11',\n",
    "       'pept', 'pept', 'pept', 'all', 'all5', 'all25', 'un', 'un', 'un', 'PMA', 'PMA', 'PMA']\n",
    "incu = pd.DataFrame(columns = ['Pool', 'Value'])\n",
    "incu['Pool'] = inds\n",
    "incu['Value'] = cell_i\n",
    "\n",
    "plt.figure(figsize=(10, 6))\n",
    "ax = sn.scatterplot(data = incu,\n",
    "                   x = 'Pool', y = 'Value', color = '#0c5394')\n",
    "plt.ylabel('Log10 of activated T cell percentage', fontsize=8)\n",
    "ax.set_title('TCR6.3: SSANNCTFEYVSQPFLM or CTFEYVSQPFLMDLEGK', fontsize=8)\n",
    "ax.set_ylabel('Log10 of activated T cell percentage', fontsize=8)\n",
    "ax.set_xlabel('', fontsize=14)"
   ]
  },
  {
   "cell_type": "markdown",
   "id": "c07308bd",
   "metadata": {},
   "source": [
    "### Flow cytometry VS Microscopy"
   ]
  },
  {
   "cell_type": "code",
   "execution_count": null,
   "id": "e1196c65",
   "metadata": {},
   "outputs": [],
   "source": [
    "incu = pd.read_csv('incucyte_results.txt', sep = \"\\t\",\n",
    "                   index_col = 0)\n",
    "cell_i = np.log10(list(incu.loc['E'].values) + list(incu.loc['F'].values) + list(incu.loc['G'].values) + list(incu.loc['H'].values))\n",
    "cell_f = list(results['GFPpos_of_Jurkat_perc_log10'][(results['Cell_line'] == 'TCR6_3')])\n",
    "ax = sn.regplot(x = cell_f, y = cell_i)\n",
    "ax.set_title('TCR6_3', fontsize=8)\n",
    "ax.set_ylabel('Log10 of number of activated T cells (incucyte)')\n",
    "ax.set_xlabel('Log10 of activated T cell percentage (flow cytometry)')"
   ]
  },
  {
   "cell_type": "code",
   "execution_count": null,
   "id": "19556b9e",
   "metadata": {},
   "outputs": [],
   "source": [
    "slope, intercept, r_value, p_value, std_err = stats.linregress(cell_f, cell_i)\n",
    "r_squared = r_value**2\n",
    "print(round(r_squared, 2))"
   ]
  },
  {
   "cell_type": "markdown",
   "id": "1cf2a116",
   "metadata": {},
   "source": [
    "# Model"
   ]
  },
  {
   "cell_type": "code",
   "execution_count": null,
   "id": "fe20c389",
   "metadata": {},
   "outputs": [],
   "source": [
    "# Data\n",
    "## Flow cytometry\n",
    "results = pd.read_excel('flow_results.xlsx')\n",
    "cell_f = list(results['GFPpos_of_Jurkat_perc'][(results['Cell_line'].str.contains('TCR6_3'))\n",
    "                                 & (results['well_type'].str.contains('pool'))])\n",
    "## Microscopy\n",
    "incu = pd.read_csv('incucyte_results.txt', sep = \"\\t\",\n",
    "                   index_col = 0)\n",
    "cell_i = list(incu.loc['E'].values) + list(incu.loc['F'].values) + list(incu.loc['G'].values)\n",
    "cell_i = cell_i/sum(cell_i)*100\n",
    "\n",
    "## Indices\n",
    "inds = inds = [0, 1, 2, 3, 4, 5, 6, 7, 8, 9, 10, 11,\n",
    "               0, 1, 2, 3, 4, 5, 6, 7, 8, 9, 10, 11,\n",
    "               0, 1, 2, 3, 4, 5, 6, 7, 8, 9, 10, 11]"
   ]
  },
  {
   "cell_type": "markdown",
   "id": "4750452e",
   "metadata": {},
   "source": [
    "### Flow cytometry"
   ]
  },
  {
   "cell_type": "code",
   "execution_count": null,
   "id": "def8bc70",
   "metadata": {},
   "outputs": [],
   "source": [
    "coords = dict(pool=range(12), component=(\"positive\", \"negative\"))\n",
    "\n",
    "with pm.Model(coords=coords) as alternative_model:\n",
    "    # 2 normal 'source' distributions for the positive and negative pools\n",
    "    source = pm.TruncatedNormal(\n",
    "        \"source\",\n",
    "        mu=np.array([10, 0.5]),\n",
    "        sigma=np.array([0.5, 0.1]),\n",
    "        dims=\"component\",\n",
    "        lower=0,\n",
    "    )\n",
    "\n",
    "    # Each pool is assigned a 0/1 (could adjust the prior probability here given that we\n",
    "    # know negatives are more likely a priori)\n",
    "    component = pm.Bernoulli(\"assign\", 0.5, dims=\"pool\")\n",
    "\n",
    "    # Each pool has a normally distributed response whose mu comes from either the\n",
    "    # postive or negative source distribution\n",
    "    pool_dist = pm.TruncatedNormal(\n",
    "        \"pool_dist\",\n",
    "        mu=source[component],\n",
    "        sigma=pm.Exponential(\"sigma\", 1),\n",
    "        lower=0,\n",
    "        dims=\"pool\",\n",
    "    )\n",
    "\n",
    "    # Likelihood, where the data indices pick out the relevant pool from pool\n",
    "    pm.TruncatedNormal(\n",
    "        \"lik\",\n",
    "        mu=pool_dist[inds],\n",
    "        sigma=pm.Exponential(\"sigma_data\", 1),\n",
    "        observed=cell_f,\n",
    "        lower=0,\n",
    "    )\n",
    "\n",
    "    idata_alt = pm.sample()\n",
    "\n",
    "pm.model_to_graphviz(alternative_model)"
   ]
  },
  {
   "cell_type": "code",
   "execution_count": null,
   "id": "2008a96c",
   "metadata": {},
   "outputs": [],
   "source": [
    "with alternative_model:\n",
    "    posterior_predictive = pm.sample_posterior_predictive(idata_alt)\n",
    "\n",
    "ax = az.plot_ppc(posterior_predictive, num_pp_samples=100)"
   ]
  },
  {
   "cell_type": "code",
   "execution_count": null,
   "id": "d01b8b21",
   "metadata": {},
   "outputs": [],
   "source": [
    "posterior = az.extract(idata_alt)\n",
    "print(posterior[\"assign\"].mean(dim=\"sample\").to_dataframe())"
   ]
  },
  {
   "cell_type": "code",
   "execution_count": null,
   "id": "753b9c68",
   "metadata": {},
   "outputs": [],
   "source": [
    "idx = list(posterior[\"assign\"].mean(dim=\"sample\").to_dataframe()['assign'])*3\n",
    "probs = pd.DataFrame(columns = ['Probs'])\n",
    "probs['Probs'] = idx\n",
    "\n",
    "_, ax = plt.subplots(figsize=(6, 3))\n",
    "ax.bar(cell_f, 1-probs['Probs'], width=0.1, label=\"idx==0\", color=\"b\")\n",
    "ax.bar(cell_f, probs['Probs'], bottom=1-probs['Probs'], width=0.1, label=\"idx==1\", color=\"r\")\n",
    "ax.scatter(cell_f, [-0.1]*36)"
   ]
  },
  {
   "cell_type": "markdown",
   "id": "8d21db13",
   "metadata": {},
   "source": [
    "### Microscopy"
   ]
  },
  {
   "cell_type": "code",
   "execution_count": null,
   "id": "b8fd2939",
   "metadata": {},
   "outputs": [],
   "source": [
    "coords = dict(pool=range(12), component=(\"positive\", \"negative\"))\n",
    "\n",
    "with pm.Model(coords=coords) as alternative_model:\n",
    "    # 2 normal 'source' distributions for the positive and negative pools\n",
    "    source = pm.TruncatedNormal(\n",
    "        \"source\",\n",
    "        mu=np.array([6, 0.5]),\n",
    "        sigma=np.array([0.5, 0.1]),\n",
    "        dims=\"component\",\n",
    "        lower=0,\n",
    "    )\n",
    "\n",
    "    # Each pool is assigned a 0/1 (could adjust the prior probability here given that we\n",
    "    # know negatives are more likely a priori)\n",
    "    component = pm.Bernoulli(\"assign\", 0.5, dims=\"pool\")\n",
    "\n",
    "    # Each pool has a normally distributed response whose mu comes from either the\n",
    "    # postive or negative source distribution\n",
    "    pool_dist = pm.TruncatedNormal(\n",
    "        \"pool_dist\",\n",
    "        mu=source[component],\n",
    "        sigma=pm.Exponential(\"sigma\", 1),\n",
    "        lower=0,\n",
    "        dims=\"pool\",\n",
    "    )\n",
    "\n",
    "    # Likelihood, where the data indices pick out the relevant pool from pool\n",
    "    pm.TruncatedNormal(\n",
    "        \"lik\",\n",
    "        mu=pool_dist[inds],\n",
    "        sigma=pm.Exponential(\"sigma_data\", 1),\n",
    "        observed=cell_i,\n",
    "        lower=0,\n",
    "    )\n",
    "\n",
    "    idata_alt = pm.sample()\n",
    "\n",
    "pm.model_to_graphviz(alternative_model)"
   ]
  },
  {
   "cell_type": "code",
   "execution_count": null,
   "id": "3a02ab51",
   "metadata": {},
   "outputs": [],
   "source": [
    "with alternative_model:\n",
    "    posterior_predictive = pm.sample_posterior_predictive(idata_alt)\n",
    "\n",
    "ax = az.plot_ppc(posterior_predictive, num_pp_samples=100)"
   ]
  },
  {
   "cell_type": "code",
   "execution_count": null,
   "id": "f1bfa554",
   "metadata": {},
   "outputs": [],
   "source": [
    "posterior = az.extract(idata_alt)\n",
    "print(posterior[\"assign\"].mean(dim=\"sample\").to_dataframe())"
   ]
  },
  {
   "cell_type": "code",
   "execution_count": null,
   "id": "061f3747",
   "metadata": {},
   "outputs": [],
   "source": [
    "idx = list(posterior[\"assign\"].mean(dim=\"sample\").to_dataframe()['assign'])*3\n",
    "probs = pd.DataFrame(columns = ['Probs'])\n",
    "probs['Probs'] = idx\n",
    "\n",
    "_, ax = plt.subplots(figsize=(6, 3))\n",
    "ax.bar(cell_i, 1-probs['Probs'], width=0.1, label=\"idx==0\", color=\"b\")\n",
    "ax.bar(cell_i, probs['Probs'], bottom=1-probs['Probs'], width=0.1, label=\"idx==1\", color=\"r\")\n",
    "ax.scatter(cell_i, [-0.1]*36)"
   ]
  }
 ],
 "metadata": {
  "kernelspec": {
   "display_name": "Python 3 (ipykernel)",
   "language": "python",
   "name": "python3"
  },
  "language_info": {
   "codemirror_mode": {
    "name": "ipython",
    "version": 3
   },
   "file_extension": ".py",
   "mimetype": "text/x-python",
   "name": "python",
   "nbconvert_exporter": "python",
   "pygments_lexer": "ipython3",
   "version": "3.10.11"
  }
 },
 "nbformat": 4,
 "nbformat_minor": 5
}
